{
  "nbformat": 4,
  "nbformat_minor": 0,
  "metadata": {
    "colab": {
      "name": "Copy of 4-12-2019",
      "provenance": [],
      "include_colab_link": true
    },
    "kernelspec": {
      "name": "python3",
      "display_name": "Python 3"
    }
  },
  "cells": [
    {
      "cell_type": "markdown",
      "metadata": {
        "id": "view-in-github",
        "colab_type": "text"
      },
      "source": [
        "<a href=\"https://colab.research.google.com/github/yash850/CRT-Program/blob/master/Copy_of_4_12_2019.ipynb\" target=\"_parent\"><img src=\"https://colab.research.google.com/assets/colab-badge.svg\" alt=\"Open In Colab\"/></a>"
      ]
    },
    {
      "cell_type": "code",
      "metadata": {
        "id": "uw_uNaX0agoN",
        "colab_type": "code",
        "outputId": "f7f4a5a9-9106-402c-e128-720eb7ce4600",
        "colab": {
          "base_uri": "https://localhost:8080/",
          "height": 51
        }
      },
      "source": [
        "# read the number as input\n",
        "# print the output as digits of the number\n",
        "# test cases:\n",
        "# 145 -- 5 4 1\n",
        "# 123 -- 3 2 1\n",
        "n = int(input('enter the number '))\n",
        "while n!=0 :\n",
        "  r = n % 10\n",
        "  print(r,end = ' ')\n",
        "  n = n//10\n",
        "\n"
      ],
      "execution_count": 0,
      "outputs": [
        {
          "output_type": "stream",
          "text": [
            "enter the number 145\n",
            "5 4 1 "
          ],
          "name": "stdout"
        }
      ]
    },
    {
      "cell_type": "code",
      "metadata": {
        "id": "EvOgZXt4dW3Y",
        "colab_type": "code",
        "colab": {}
      },
      "source": [
        ""
      ],
      "execution_count": 0,
      "outputs": []
    },
    {
      "cell_type": "markdown",
      "metadata": {
        "id": "aGzivI6OeRCb",
        "colab_type": "text"
      },
      "source": [
        "### Functions in programming\n",
        "- program will be divides into sub parts\n",
        "- it makes the re-use of the code\n",
        "- functions makes the programming more esaier\n",
        "- def is keyword which is used to define the function\n",
        "- function name follows the camel case always\n",
        "   - func() isPalindrome() isPalindromeCheck()\n",
        "- def of the function can be anything for the given requirment of functionname()\n",
        "   - statement\n",
        "   - return"
      ]
    },
    {
      "cell_type": "code",
      "metadata": {
        "id": "f8hYjfQsgR2k",
        "colab_type": "code",
        "outputId": "a632b406-284a-4866-ad90-93f12ac9da8b",
        "colab": {
          "base_uri": "https://localhost:8080/",
          "height": 51
        }
      },
      "source": [
        "# read the input as a number\n",
        "# print the output as large digit of the given number\n",
        "# 58952 -- 9\n",
        "def largeDigit(n):\n",
        "  large = 0\n",
        "  while n!=0:\n",
        "    r=n%10\n",
        "    if large < r:\n",
        "      large=r\n",
        "    n = n // 10 \n",
        "  return large\n",
        "n= int(input('enter the number '))  \n",
        "largeDigit (n)"
      ],
      "execution_count": 0,
      "outputs": [
        {
          "output_type": "stream",
          "text": [
            "enter the number 56784\n"
          ],
          "name": "stdout"
        },
        {
          "output_type": "execute_result",
          "data": {
            "text/plain": [
              "8"
            ]
          },
          "metadata": {
            "tags": []
          },
          "execution_count": 8
        }
      ]
    },
    {
      "cell_type": "code",
      "metadata": {
        "id": "IEVlVZ-cir9I",
        "colab_type": "code",
        "outputId": "ed412d7a-b69c-490d-ec99-b1d5b4911cab",
        "colab": {
          "base_uri": "https://localhost:8080/",
          "height": 51
        }
      },
      "source": [
        "# read the input as a number\n",
        "# sum of digits of the given number\n",
        "# 145 -- 10\n",
        "def sumOfDigits(n):\n",
        "    s=0\n",
        "    while n != 0:\n",
        "        r = n%10\n",
        "        s = s+r\n",
        "        n = n//10\n",
        "    return s      \n",
        "n =int(input('enter the number '))\n",
        "sumOfDigits(n)    "
      ],
      "execution_count": 0,
      "outputs": [
        {
          "output_type": "stream",
          "text": [
            "enter the number 546\n"
          ],
          "name": "stdout"
        },
        {
          "output_type": "execute_result",
          "data": {
            "text/plain": [
              "15"
            ]
          },
          "metadata": {
            "tags": []
          },
          "execution_count": 9
        }
      ]
    },
    {
      "cell_type": "code",
      "metadata": {
        "id": "pnvEijZvmewx",
        "colab_type": "code",
        "outputId": "a5e871d3-069d-4afe-b177-4083fa11d709",
        "colab": {
          "base_uri": "https://localhost:8080/",
          "height": 51
        }
      },
      "source": [
        "# read the input as number\n",
        "# print the output as palindrome or not palindrome\n",
        "# a number reversed itself is same as orginal number is called palindrome\n",
        "# 121 -- palindrome\n",
        "# 145 -- not a palindrome\n",
        "def isPalindrome(n):\n",
        "     s=0\n",
        "     buffer = n\n",
        "     while n!=0:\n",
        "        r=n%10\n",
        "        s=s*10+r\n",
        "        n=n//10\n",
        "     if s == buffer:\n",
        "        return \"palindrome\"\n",
        "     else :\n",
        "        return \"not a palindrome\" \n",
        "     return\n",
        "n=int(input( 'enter the number ')) \n",
        "isPalindrome(n)          \n"
      ],
      "execution_count": 0,
      "outputs": [
        {
          "output_type": "stream",
          "text": [
            "enter the number 212\n"
          ],
          "name": "stdout"
        },
        {
          "output_type": "execute_result",
          "data": {
            "text/plain": [
              "'palindrome'"
            ]
          },
          "metadata": {
            "tags": []
          },
          "execution_count": 11
        }
      ]
    },
    {
      "cell_type": "code",
      "metadata": {
        "id": "jv04xOPRqZtt",
        "colab_type": "code",
        "outputId": "8282a8b8-e8a5-4667-85e2-8efc55d6c01b",
        "colab": {
          "base_uri": "https://localhost:8080/",
          "height": 51
        }
      },
      "source": [
        "# read the number as input\n",
        "# print the large digit from last three positions of the number\n",
        "# 54675 -- 7\n",
        "def printLargeDigit(n):\n",
        "      i=0\n",
        "      large = 0\n",
        "      while i!=3:\n",
        "        r=n%10\n",
        "        if large < r:\n",
        "           large = r\n",
        "        n=n//10\n",
        "        i = i+1\n",
        "      return large\n",
        "n=int(input('enter the number'))\n",
        "printLargeDigit(n)        \n"
      ],
      "execution_count": 0,
      "outputs": [
        {
          "output_type": "stream",
          "text": [
            "enter the number1234647\n"
          ],
          "name": "stdout"
        },
        {
          "output_type": "execute_result",
          "data": {
            "text/plain": [
              "7"
            ]
          },
          "metadata": {
            "tags": []
          },
          "execution_count": 12
        }
      ]
    },
    {
      "cell_type": "markdown",
      "metadata": {
        "id": "7pbQ2qRDwpe1",
        "colab_type": "text"
      },
      "source": [
        "# Data Structures of Python Programming\n",
        "   - list\n",
        "   - tuples\n",
        "   - Dictonaries\n",
        "   - sets"
      ]
    },
    {
      "cell_type": "code",
      "metadata": {
        "id": "ESYwLVGVuISd",
        "colab_type": "code",
        "outputId": "9138baf3-85e0-480c-8c0f-932c93147c9c",
        "colab": {
          "base_uri": "https://localhost:8080/",
          "height": 34
        }
      },
      "source": [
        "li=[1,2,3,4,5]\n",
        "print(li)"
      ],
      "execution_count": 0,
      "outputs": [
        {
          "output_type": "stream",
          "text": [
            "[1, 2, 3, 4, 5]\n"
          ],
          "name": "stdout"
        }
      ]
    },
    {
      "cell_type": "code",
      "metadata": {
        "id": "dGRKK-RLxBIc",
        "colab_type": "code",
        "outputId": "073f77cc-b872-4292-eafa-ab6058796a0a",
        "colab": {
          "base_uri": "https://localhost:8080/",
          "height": 34
        }
      },
      "source": [
        "for i in range(1,12):\n",
        "  print(i,end = ' ')"
      ],
      "execution_count": 0,
      "outputs": [
        {
          "output_type": "stream",
          "text": [
            "1 2 3 4 5 6 7 8 9 10 11 "
          ],
          "name": "stdout"
        }
      ]
    },
    {
      "cell_type": "code",
      "metadata": {
        "id": "6Ke9kYeWxo9p",
        "colab_type": "code",
        "outputId": "d43c24f5-2eda-4a24-a7eb-87f957b45fd7",
        "colab": {
          "base_uri": "https://localhost:8080/",
          "height": 34
        }
      },
      "source": [
        "for i in range(0,25,2):\n",
        "   print(i,end =' ')  \n"
      ],
      "execution_count": 0,
      "outputs": [
        {
          "output_type": "stream",
          "text": [
            "0 2 4 6 8 10 12 14 16 18 20 22 24 "
          ],
          "name": "stdout"
        }
      ]
    },
    {
      "cell_type": "code",
      "metadata": {
        "id": "W2_l9QQEyIGB",
        "colab_type": "code",
        "colab": {}
      },
      "source": [
        ""
      ],
      "execution_count": 0,
      "outputs": []
    }
  ]
}