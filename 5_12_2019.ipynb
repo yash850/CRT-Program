{
  "nbformat": 4,
  "nbformat_minor": 0,
  "metadata": {
    "colab": {
      "name": "5-12-2019",
      "provenance": [],
      "include_colab_link": true
    },
    "kernelspec": {
      "name": "python3",
      "display_name": "Python 3"
    }
  },
  "cells": [
    {
      "cell_type": "markdown",
      "metadata": {
        "id": "view-in-github",
        "colab_type": "text"
      },
      "source": [
        "<a href=\"https://colab.research.google.com/github/yash850/CRT-Program/blob/master/5_12_2019.ipynb\" target=\"_parent\"><img src=\"https://colab.research.google.com/assets/colab-badge.svg\" alt=\"Open In Colab\"/></a>"
      ]
    },
    {
      "cell_type": "code",
      "metadata": {
        "id": "_zuzUVX8IR-w",
        "colab_type": "code",
        "colab": {}
      },
      "source": [
        ""
      ],
      "execution_count": 0,
      "outputs": []
    },
    {
      "cell_type": "code",
      "metadata": {
        "id": "LznRUpZpMNP-",
        "colab_type": "code",
        "colab": {
          "base_uri": "https://localhost:8080/",
          "height": 34
        },
        "outputId": "bf617e44-2daa-456f-a2bf-59027d725f61"
      },
      "source": [
        "a=[1,2,3,4,5]\n",
        "print(len(a))"
      ],
      "execution_count": 1,
      "outputs": [
        {
          "output_type": "stream",
          "text": [
            "5\n"
          ],
          "name": "stdout"
        }
      ]
    },
    {
      "cell_type": "code",
      "metadata": {
        "id": "2DZb0FPWM143",
        "colab_type": "code",
        "colab": {
          "base_uri": "https://localhost:8080/",
          "height": 34
        },
        "outputId": "7ec5740f-b27a-4a4c-9a6a-ba0ec4908ada"
      },
      "source": [
        "a[3]=12 # update the list item value\n",
        "print(a)"
      ],
      "execution_count": 2,
      "outputs": [
        {
          "output_type": "stream",
          "text": [
            "[1, 2, 3, 12, 5]\n"
          ],
          "name": "stdout"
        }
      ]
    },
    {
      "cell_type": "code",
      "metadata": {
        "id": "dG8XQmJrNOe8",
        "colab_type": "code",
        "colab": {
          "base_uri": "https://localhost:8080/",
          "height": 34
        },
        "outputId": "9b9b689e-d1cc-4a6a-821e-ca1e0bc017bc"
      },
      "source": [
        "del a[4]\n",
        "print(a)"
      ],
      "execution_count": 3,
      "outputs": [
        {
          "output_type": "stream",
          "text": [
            "[1, 2, 3, 12]\n"
          ],
          "name": "stdout"
        }
      ]
    },
    {
      "cell_type": "markdown",
      "metadata": {
        "id": "3iNH9t5CMBG5",
        "colab_type": "text"
      },
      "source": [
        "# list and list related examples"
      ]
    },
    {
      "cell_type": "code",
      "metadata": {
        "id": "O3IsA2leNbA1",
        "colab_type": "code",
        "colab": {
          "base_uri": "https://localhost:8080/",
          "height": 34
        },
        "outputId": "74c8b82c-8cf3-4e73-fa52-313a9668c6dd"
      },
      "source": [
        "print(a[-3]) # to access the last value of set"
      ],
      "execution_count": 6,
      "outputs": [
        {
          "output_type": "stream",
          "text": [
            "2\n"
          ],
          "name": "stdout"
        }
      ]
    },
    {
      "cell_type": "code",
      "metadata": {
        "id": "9k4Cr_QIOSa8",
        "colab_type": "code",
        "colab": {
          "base_uri": "https://localhost:8080/",
          "height": 34
        },
        "outputId": "6f503f12-482d-494b-a8df-18acd882e718"
      },
      "source": [
        "print(a[1:3])"
      ],
      "execution_count": 7,
      "outputs": [
        {
          "output_type": "stream",
          "text": [
            "[2, 3]\n"
          ],
          "name": "stdout"
        }
      ]
    },
    {
      "cell_type": "code",
      "metadata": {
        "id": "v69NHiMBO5np",
        "colab_type": "code",
        "colab": {
          "base_uri": "https://localhost:8080/",
          "height": 34
        },
        "outputId": "85db0bf4-1079-4aba-cdcb-79c2505e6f2c"
      },
      "source": [
        "print(a[0:6])"
      ],
      "execution_count": 8,
      "outputs": [
        {
          "output_type": "stream",
          "text": [
            "[1, 2, 3, 12]\n"
          ],
          "name": "stdout"
        }
      ]
    },
    {
      "cell_type": "code",
      "metadata": {
        "id": "nvyo9rAWP7jJ",
        "colab_type": "code",
        "colab": {
          "base_uri": "https://localhost:8080/",
          "height": 85
        },
        "outputId": "36ff4188-f4ac-46c6-eb61-49572e545f31"
      },
      "source": [
        "### methods of list\n",
        "print(sum(a)) # sum of the list\n",
        "print(max(a)) # amximum value of the list\n",
        "print(min(a)) # minimum value of the list\n",
        "print(sum(a)//len(a)) # avg"
      ],
      "execution_count": 11,
      "outputs": [
        {
          "output_type": "stream",
          "text": [
            "18\n",
            "12\n",
            "1\n",
            "4\n"
          ],
          "name": "stdout"
        }
      ]
    },
    {
      "cell_type": "code",
      "metadata": {
        "id": "mJOe4bG3SjFH",
        "colab_type": "code",
        "colab": {
          "base_uri": "https://localhost:8080/",
          "height": 34
        },
        "outputId": "c0e3dcb9-5d19-43e2-d3f2-0030b8387f6a"
      },
      "source": [
        "# list methods\n",
        "a.append(200) # append will insert the new values to a list\n",
        "a"
      ],
      "execution_count": 12,
      "outputs": [
        {
          "output_type": "execute_result",
          "data": {
            "text/plain": [
              "[1, 2, 3, 12, 200]"
            ]
          },
          "metadata": {
            "tags": []
          },
          "execution_count": 12
        }
      ]
    },
    {
      "cell_type": "code",
      "metadata": {
        "id": "CvZaPgheTupA",
        "colab_type": "code",
        "colab": {
          "base_uri": "https://localhost:8080/",
          "height": 34
        },
        "outputId": "e6ad842e-a848-46a5-9f76-ef9605b6b2ff"
      },
      "source": [
        "a.insert(3,60) # adding value at paticular position\n",
        "a"
      ],
      "execution_count": 16,
      "outputs": [
        {
          "output_type": "execute_result",
          "data": {
            "text/plain": [
              "[1, 2, 3, 60, 12, 200]"
            ]
          },
          "metadata": {
            "tags": []
          },
          "execution_count": 16
        }
      ]
    },
    {
      "cell_type": "code",
      "metadata": {
        "id": "8ifYhNNtUefQ",
        "colab_type": "code",
        "colab": {
          "base_uri": "https://localhost:8080/",
          "height": 34
        },
        "outputId": "27cb40cd-a128-4753-cae3-cc5186cf96b2"
      },
      "source": [
        "a.count(12) # counts the number of such values in a list"
      ],
      "execution_count": 17,
      "outputs": [
        {
          "output_type": "execute_result",
          "data": {
            "text/plain": [
              "1"
            ]
          },
          "metadata": {
            "tags": []
          },
          "execution_count": 17
        }
      ]
    },
    {
      "cell_type": "code",
      "metadata": {
        "id": "j85MosHLVjSA",
        "colab_type": "code",
        "colab": {
          "base_uri": "https://localhost:8080/",
          "height": 34
        },
        "outputId": "37db6c9c-5ded-401b-941b-4433a3fc80b2"
      },
      "source": [
        "a.index(12) # gives the index of specified value"
      ],
      "execution_count": 18,
      "outputs": [
        {
          "output_type": "execute_result",
          "data": {
            "text/plain": [
              "4"
            ]
          },
          "metadata": {
            "tags": []
          },
          "execution_count": 18
        }
      ]
    },
    {
      "cell_type": "code",
      "metadata": {
        "id": "IGOoamsOVyBV",
        "colab_type": "code",
        "colab": {
          "base_uri": "https://localhost:8080/",
          "height": 34
        },
        "outputId": "251067a8-41a1-403e-e825-534ce14d2ba5"
      },
      "source": [
        "a.sort() # gives the list in ascending order\n",
        "a"
      ],
      "execution_count": 21,
      "outputs": [
        {
          "output_type": "execute_result",
          "data": {
            "text/plain": [
              "[1, 2, 3, 12, 60, 200]"
            ]
          },
          "metadata": {
            "tags": []
          },
          "execution_count": 21
        }
      ]
    },
    {
      "cell_type": "code",
      "metadata": {
        "id": "g5omkYOAWUT0",
        "colab_type": "code",
        "colab": {
          "base_uri": "https://localhost:8080/",
          "height": 34
        },
        "outputId": "bac1146b-e998-4185-d00a-bb97a36295c8"
      },
      "source": [
        "a.pop() # removes the item of last index"
      ],
      "execution_count": 22,
      "outputs": [
        {
          "output_type": "execute_result",
          "data": {
            "text/plain": [
              "200"
            ]
          },
          "metadata": {
            "tags": []
          },
          "execution_count": 22
        }
      ]
    },
    {
      "cell_type": "code",
      "metadata": {
        "id": "nz3uUaciW3AA",
        "colab_type": "code",
        "colab": {
          "base_uri": "https://localhost:8080/",
          "height": 34
        },
        "outputId": "27d84274-db84-4615-f6e4-1145b12fe4ad"
      },
      "source": [
        "a"
      ],
      "execution_count": 23,
      "outputs": [
        {
          "output_type": "execute_result",
          "data": {
            "text/plain": [
              "[1, 2, 3, 12, 60]"
            ]
          },
          "metadata": {
            "tags": []
          },
          "execution_count": 23
        }
      ]
    },
    {
      "cell_type": "code",
      "metadata": {
        "id": "JTlDIO6RW9Jy",
        "colab_type": "code",
        "colab": {
          "base_uri": "https://localhost:8080/",
          "height": 34
        },
        "outputId": "ffb75525-7334-4b1f-d4a2-e05612bc7a5b"
      },
      "source": [
        "a.pop(4)\n",
        "a"
      ],
      "execution_count": 24,
      "outputs": [
        {
          "output_type": "execute_result",
          "data": {
            "text/plain": [
              "[1, 2, 3, 12]"
            ]
          },
          "metadata": {
            "tags": []
          },
          "execution_count": 24
        }
      ]
    },
    {
      "cell_type": "code",
      "metadata": {
        "id": "Az0SPUe6XF_S",
        "colab_type": "code",
        "colab": {
          "base_uri": "https://localhost:8080/",
          "height": 34
        },
        "outputId": "ae9a4357-3af5-4c3f-973b-0532e1b4e410"
      },
      "source": [
        "# show the second largest value of list\n",
        "# a=[1,9,16,25,2,3,65]\n",
        "# output=25\n",
        "def secondLarge(a):\n",
        "    a.sort()\n",
        "    return a[-2]\n",
        "a=[1,9,16,25,2,3,65]\n",
        "secondLarge(a)     "
      ],
      "execution_count": 25,
      "outputs": [
        {
          "output_type": "execute_result",
          "data": {
            "text/plain": [
              "25"
            ]
          },
          "metadata": {
            "tags": []
          },
          "execution_count": 25
        }
      ]
    },
    {
      "cell_type": "code",
      "metadata": {
        "id": "cC6OTT8fYNff",
        "colab_type": "code",
        "colab": {
          "base_uri": "https://localhost:8080/",
          "height": 34
        },
        "outputId": "1976cbce-bf3a-4cab-aaaf-f3adc51df2d8"
      },
      "source": [
        "def genericLarge(a,n):\n",
        "    a.sort()\n",
        "    return a[-n]\n",
        "genericLarge(a,3)    "
      ],
      "execution_count": 29,
      "outputs": [
        {
          "output_type": "execute_result",
          "data": {
            "text/plain": [
              "16"
            ]
          },
          "metadata": {
            "tags": []
          },
          "execution_count": 29
        }
      ]
    },
    {
      "cell_type": "code",
      "metadata": {
        "id": "h2fCyexWY6k4",
        "colab_type": "code",
        "colab": {
          "base_uri": "https://localhost:8080/",
          "height": 34
        },
        "outputId": "086cd32e-33a7-43f5-82a8-74c6f3689de2"
      },
      "source": [
        "def genericLeast(a,n):\n",
        "    a.sort()\n",
        "    return a[-n]\n",
        "genericLeast(a,0)    "
      ],
      "execution_count": 30,
      "outputs": [
        {
          "output_type": "execute_result",
          "data": {
            "text/plain": [
              "1"
            ]
          },
          "metadata": {
            "tags": []
          },
          "execution_count": 30
        }
      ]
    },
    {
      "cell_type": "markdown",
      "metadata": {
        "id": "-rOP-jWJa2tc",
        "colab_type": "text"
      },
      "source": [
        "## *Number to List Conversion*\n",
        "   - 135792468 - [1,3,5,7,9,2,4,6,8]"
      ]
    },
    {
      "cell_type": "code",
      "metadata": {
        "id": "9ZX1HzqTaQQV",
        "colab_type": "code",
        "colab": {
          "base_uri": "https://localhost:8080/",
          "height": 34
        },
        "outputId": "da0f2c9a-d7ab-4aa0-bfdb-c2dc8fb49f20"
      },
      "source": [
        "def numbertoList (n):\n",
        "    a=[] # Empty set\n",
        "    while n!=0:\n",
        "        r=n%10\n",
        "        a.append(r)\n",
        "        n=n//10\n",
        "    a.reverse()\n",
        "    return a\n",
        "numbertoList(135792468)        "
      ],
      "execution_count": 33,
      "outputs": [
        {
          "output_type": "execute_result",
          "data": {
            "text/plain": [
              "[1, 3, 5, 7, 9, 2, 4, 6, 8]"
            ]
          },
          "metadata": {
            "tags": []
          },
          "execution_count": 33
        }
      ]
    },
    {
      "cell_type": "code",
      "metadata": {
        "id": "LYJNgVCddLaA",
        "colab_type": "code",
        "colab": {}
      },
      "source": [
        ""
      ],
      "execution_count": 0,
      "outputs": []
    },
    {
      "cell_type": "markdown",
      "metadata": {
        "id": "Iq_TcRudd-ai",
        "colab_type": "text"
      },
      "source": [
        "# Data Structures-Tuples\n",
        "  - it is similar to list object\n",
        "  - list will be enclosed in square brackets[] and tuples\n",
        "  - will be enclosed with in paraenthsis()\n",
        "  - list can be increased/decreased and tuples is fixed so that\n",
        "  - you can't increase and decrease the tuple\n",
        "  - it means list is mutable and tuple is immutable\n",
        "     - used for only reading"
      ]
    },
    {
      "cell_type": "code",
      "metadata": {
        "id": "px56DvOEfB2G",
        "colab_type": "code",
        "colab": {
          "base_uri": "https://localhost:8080/",
          "height": 34
        },
        "outputId": "5f8dc29f-329d-4377-83fc-ccd5c7f3d2ea"
      },
      "source": [
        "t1=(1,1,5,9,2)\n",
        "t1"
      ],
      "execution_count": 34,
      "outputs": [
        {
          "output_type": "execute_result",
          "data": {
            "text/plain": [
              "(1, 1, 5, 9, 2)"
            ]
          },
          "metadata": {
            "tags": []
          },
          "execution_count": 34
        }
      ]
    },
    {
      "cell_type": "code",
      "metadata": {
        "id": "iL-dn8MHfUqy",
        "colab_type": "code",
        "colab": {
          "base_uri": "https://localhost:8080/",
          "height": 34
        },
        "outputId": "f34d919d-cfd4-475c-c203-d30c9eda5fee"
      },
      "source": [
        "t1[0:4]"
      ],
      "execution_count": 35,
      "outputs": [
        {
          "output_type": "execute_result",
          "data": {
            "text/plain": [
              "(1, 1, 5, 9)"
            ]
          },
          "metadata": {
            "tags": []
          },
          "execution_count": 35
        }
      ]
    },
    {
      "cell_type": "code",
      "metadata": {
        "id": "7GKKoOnRfZpb",
        "colab_type": "code",
        "colab": {
          "base_uri": "https://localhost:8080/",
          "height": 34
        },
        "outputId": "9bb8e72a-b598-4111-e71b-eef27235f37f"
      },
      "source": [
        "t1.count(1)"
      ],
      "execution_count": 38,
      "outputs": [
        {
          "output_type": "execute_result",
          "data": {
            "text/plain": [
              "2"
            ]
          },
          "metadata": {
            "tags": []
          },
          "execution_count": 38
        }
      ]
    },
    {
      "cell_type": "code",
      "metadata": {
        "id": "-Al66_JVffrz",
        "colab_type": "code",
        "colab": {
          "base_uri": "https://localhost:8080/",
          "height": 34
        },
        "outputId": "6a898238-7867-40b6-ba36-764ddfcb6ee2"
      },
      "source": [
        "t1.index(5)"
      ],
      "execution_count": 39,
      "outputs": [
        {
          "output_type": "execute_result",
          "data": {
            "text/plain": [
              "2"
            ]
          },
          "metadata": {
            "tags": []
          },
          "execution_count": 39
        }
      ]
    },
    {
      "cell_type": "code",
      "metadata": {
        "id": "9PGb2Wq1geI6",
        "colab_type": "code",
        "colab": {}
      },
      "source": [
        ""
      ],
      "execution_count": 0,
      "outputs": []
    },
    {
      "cell_type": "markdown",
      "metadata": {
        "id": "OnIfZCQkhz5f",
        "colab_type": "text"
      },
      "source": [
        "# Data Structure-Dictionaries\n",
        "  - this data structure object is works on set of keys and\n",
        "  - there will be unique key set will be defined\n",
        "  - every key is seperated from its value by colon(:)\n",
        "  - every key and value pair is seperated by comma(,)\n",
        "  - it is defined in curl brackets{}"
      ]
    },
    {
      "cell_type": "code",
      "metadata": {
        "id": "Qk9uA8aHiqYf",
        "colab_type": "code",
        "colab": {
          "base_uri": "https://localhost:8080/",
          "height": 34
        },
        "outputId": "1b2ef9af-2163-4d57-d4d2-bb93faa4fde4"
      },
      "source": [
        "# define the dict d1{}\n",
        "d1={'name': 'yash',  'emailID': 'yashwanthy234@gmail.com', 'mobile number': '1234'}\n",
        "print(d1['mobile number']) # to access the specific key value"
      ],
      "execution_count": 40,
      "outputs": [
        {
          "output_type": "stream",
          "text": [
            "1234\n"
          ],
          "name": "stdout"
        }
      ]
    },
    {
      "cell_type": "code",
      "metadata": {
        "id": "oxKByihqkWXR",
        "colab_type": "code",
        "colab": {
          "base_uri": "https://localhost:8080/",
          "height": 34
        },
        "outputId": "4615c2f2-c062-4b42-9ca8-83e6f4222445"
      },
      "source": [
        "d1['mobile number'] = 4321\n",
        "d1"
      ],
      "execution_count": 41,
      "outputs": [
        {
          "output_type": "execute_result",
          "data": {
            "text/plain": [
              "{'emailID': 'yashwanthy234@gmail.com', 'mobile number': 4321, 'name': 'yash'}"
            ]
          },
          "metadata": {
            "tags": []
          },
          "execution_count": 41
        }
      ]
    },
    {
      "cell_type": "code",
      "metadata": {
        "id": "9a4Au3ipki8R",
        "colab_type": "code",
        "colab": {}
      },
      "source": [
        ""
      ],
      "execution_count": 0,
      "outputs": []
    },
    {
      "cell_type": "markdown",
      "metadata": {
        "id": "36wlQ6uGkqzO",
        "colab_type": "text"
      },
      "source": [
        "# Contact Application\n",
        "  - used concepts : Dict,list and Tuples\n",
        "# Modules of Contact Application\n",
        "  - Add contact\n",
        "  - search contact\n",
        "  - import the new contacts\n",
        "  - update the contact details\n",
        "  - delete the contact details  "
      ]
    },
    {
      "cell_type": "code",
      "metadata": {
        "id": "Eh-SMtkimFmH",
        "colab_type": "code",
        "colab": {
          "base_uri": "https://localhost:8080/",
          "height": 68
        },
        "outputId": "f5122a4e-5f48-435d-ca69-ce6f8b0987c7"
      },
      "source": [
        "contacts ={} # Empty Dict Object\n",
        "# Define the function for Add contacts\n",
        "def addContacts(name,phone):\n",
        "    if name not in contacts:\n",
        "         contacts[name] =phone\n",
        "         print(\"contact added\")\n",
        "    else :\n",
        "         print(\"contact is not added\")\n",
        "    return\n",
        "addContacts('nihal',9876543214) # contact is added\n",
        "addContacts('pavan',7890345256) # contact is added\n",
        "addContacts('dhanesh',8907544322) # contact is not added           "
      ],
      "execution_count": 42,
      "outputs": [
        {
          "output_type": "stream",
          "text": [
            "contact added\n",
            "contact added\n",
            "contact added\n"
          ],
          "name": "stdout"
        }
      ]
    },
    {
      "cell_type": "code",
      "metadata": {
        "id": "6I8UPY80ntka",
        "colab_type": "code",
        "colab": {
          "base_uri": "https://localhost:8080/",
          "height": 102
        },
        "outputId": "e726fedc-7622-44b7-db20-c0b88183c698"
      },
      "source": [
        "contacts"
      ],
      "execution_count": 51,
      "outputs": [
        {
          "output_type": "execute_result",
          "data": {
            "text/plain": [
              "{'dhanesh': 8907544322,\n",
              " 'nihal': 9876543214,\n",
              " 'pavan': 7890345256,\n",
              " 'phani': 9999933333,\n",
              " 'tilak': 8888833333}"
            ]
          },
          "metadata": {
            "tags": []
          },
          "execution_count": 51
        }
      ]
    },
    {
      "cell_type": "code",
      "metadata": {
        "id": "ggdTg1BPoa-U",
        "colab_type": "code",
        "colab": {
          "base_uri": "https://localhost:8080/",
          "height": 68
        },
        "outputId": "eab3fdd7-9cd9-4c1f-a076-b66b9382a9cb"
      },
      "source": [
        "# Define function for search contact\n",
        "def searchContact(name):\n",
        "    if name in contacts:\n",
        "         print(name, \" : \", contacts[name])\n",
        "    else:\n",
        "         print('contact is not present')\n",
        "    return\n",
        "searchContact('nihal') # nihal: 9876543214\n",
        "searchContact('pavan') # pavan :7890345256\n",
        "searchContact('vineeth') # contact is not present          "
      ],
      "execution_count": 45,
      "outputs": [
        {
          "output_type": "stream",
          "text": [
            "nihal  :  9876543214\n",
            "pavan  :  7890345256\n",
            "contact is not present\n"
          ],
          "name": "stdout"
        }
      ]
    },
    {
      "cell_type": "code",
      "metadata": {
        "id": "dML4Pimyp3Jo",
        "colab_type": "code",
        "colab": {
          "base_uri": "https://localhost:8080/",
          "height": 34
        },
        "outputId": "8c58814d-507e-410a-8a79-3e565db84a46"
      },
      "source": [
        "# Define the function for import the new contacts\n",
        "def importContacts(newcontacts):\n",
        "    contacts.update(newcontacts)\n",
        "    print('new contacts are added')\n",
        "    return\n",
        "newcontacts = {\"phani\":9999933333,\"tilak\":8888833333}\n",
        "importContacts(newcontacts)"
      ],
      "execution_count": 50,
      "outputs": [
        {
          "output_type": "stream",
          "text": [
            "new contacts are added\n"
          ],
          "name": "stdout"
        }
      ]
    },
    {
      "cell_type": "code",
      "metadata": {
        "id": "JPFlQ5dHrqp4",
        "colab_type": "code",
        "colab": {
          "base_uri": "https://localhost:8080/",
          "height": 51
        },
        "outputId": "53a02f81-3ee1-4b36-f29a-abf113778e07"
      },
      "source": [
        "# Define a function for update details\n",
        "def updateDetails(name,phone):\n",
        "    if name in contacts:\n",
        "        contacts[name] = phone\n",
        "        print('contact update is successful')\n",
        "    else:\n",
        "        print('please add new contact details')  \n",
        "    return\n",
        "updateDetails('phani', 3333399999)\n",
        "updateDetails('tilak', 3333388888)    \n"
      ],
      "execution_count": 54,
      "outputs": [
        {
          "output_type": "stream",
          "text": [
            "contact update is successful\n",
            "contact update is successful\n"
          ],
          "name": "stdout"
        }
      ]
    },
    {
      "cell_type": "code",
      "metadata": {
        "id": "T7sL7T2runEr",
        "colab_type": "code",
        "colab": {
          "base_uri": "https://localhost:8080/",
          "height": 51
        },
        "outputId": "dfc65044-2307-4e34-86d3-991f175c62fe"
      },
      "source": [
        "# Define function to delete the contact details\n",
        "def deleteContact(name):\n",
        "    if name in contacts:\n",
        "        del contacts[name]\n",
        "        print('contact is deleted')\n",
        "    else:\n",
        "        print('contact is not presented')    \n",
        "    return\n",
        "deleteContact('phani')\n",
        "deleteContact('tilak')        "
      ],
      "execution_count": 57,
      "outputs": [
        {
          "output_type": "stream",
          "text": [
            "contact is deleted\n",
            "contact is deleted\n"
          ],
          "name": "stdout"
        }
      ]
    },
    {
      "cell_type": "code",
      "metadata": {
        "id": "Cs6olfQsxGm3",
        "colab_type": "code",
        "colab": {
          "base_uri": "https://localhost:8080/",
          "height": 34
        },
        "outputId": "d3b7b699-99ca-44a4-8a8a-1ae04da87988"
      },
      "source": [
        "contacts"
      ],
      "execution_count": 58,
      "outputs": [
        {
          "output_type": "execute_result",
          "data": {
            "text/plain": [
              "{'dhanesh': 8907544322, 'nihal': 9876543214, 'pavan': 7890345256}"
            ]
          },
          "metadata": {
            "tags": []
          },
          "execution_count": 58
        }
      ]
    },
    {
      "cell_type": "code",
      "metadata": {
        "id": "9IY0rJBMxUay",
        "colab_type": "code",
        "colab": {}
      },
      "source": [
        ""
      ],
      "execution_count": 0,
      "outputs": []
    },
    {
      "cell_type": "markdown",
      "metadata": {
        "id": "gppScoOlzCtt",
        "colab_type": "text"
      },
      "source": [
        "# String to List Conversion\n",
        "  - \"1 2 3 4 5 6\" - [1,2,3,4,5,6]"
      ]
    },
    {
      "cell_type": "code",
      "metadata": {
        "id": "enfRiSqFzWZu",
        "colab_type": "code",
        "colab": {
          "base_uri": "https://localhost:8080/",
          "height": 68
        },
        "outputId": "fe5098cc-d6bd-4b83-c999-be72b86545fc"
      },
      "source": [
        "a= input('enter the numbers')\n",
        "print(type(a))\n",
        "print(a)"
      ],
      "execution_count": 59,
      "outputs": [
        {
          "output_type": "stream",
          "text": [
            "enter the numbers1 2 3 4 5 6\n",
            "<class 'str'>\n",
            "1 2 3 4 5 6\n"
          ],
          "name": "stdout"
        }
      ]
    },
    {
      "cell_type": "code",
      "metadata": {
        "id": "5VT5Wmaxzkcn",
        "colab_type": "code",
        "colab": {
          "base_uri": "https://localhost:8080/",
          "height": 34
        },
        "outputId": "579b3781-fad5-48e8-976e-22b9f617f358"
      },
      "source": [
        "s=\"application test working\"\n",
        "li = s.split()\n",
        "print(li)"
      ],
      "execution_count": 62,
      "outputs": [
        {
          "output_type": "stream",
          "text": [
            "['application', 'test', 'working']\n"
          ],
          "name": "stdout"
        }
      ]
    },
    {
      "cell_type": "code",
      "metadata": {
        "id": "aLs77NOD0F-V",
        "colab_type": "code",
        "colab": {
          "base_uri": "https://localhost:8080/",
          "height": 34
        },
        "outputId": "034e4f64-1a30-4a4f-947d-cef0ba69ebe0"
      },
      "source": [
        "s1 =\"gitam hyderabad python programming\"\n",
        "li1=s1.split('a')\n",
        "print(li1)"
      ],
      "execution_count": 67,
      "outputs": [
        {
          "output_type": "stream",
          "text": [
            "['git', 'm hyder', 'b', 'd python progr', 'mming']\n"
          ],
          "name": "stdout"
        }
      ]
    },
    {
      "cell_type": "code",
      "metadata": {
        "id": "jz9TTIKh0uzs",
        "colab_type": "code",
        "colab": {
          "base_uri": "https://localhost:8080/",
          "height": 34
        },
        "outputId": "f541eb6e-a4c4-402d-e004-dfcc4d650400"
      },
      "source": [
        "# define a function to convert the string to liat\n",
        "def stringToList(s):\n",
        "    li = s.split()\n",
        "    numberList=[]\n",
        "    for i in li:\n",
        "         numberList.append(int(i))\n",
        "    return numberList\n",
        "stringToList('1 2 3 4 5 6')          "
      ],
      "execution_count": 71,
      "outputs": [
        {
          "output_type": "execute_result",
          "data": {
            "text/plain": [
              "[1, 2, 3, 4, 5, 6]"
            ]
          },
          "metadata": {
            "tags": []
          },
          "execution_count": 71
        }
      ]
    },
    {
      "cell_type": "code",
      "metadata": {
        "id": "CiBYOby23tQ3",
        "colab_type": "code",
        "colab": {}
      },
      "source": [
        ""
      ],
      "execution_count": 0,
      "outputs": []
    }
  ]
}