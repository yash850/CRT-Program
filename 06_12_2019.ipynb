{
  "nbformat": 4,
  "nbformat_minor": 0,
  "metadata": {
    "colab": {
      "name": "06-12-2019",
      "provenance": [],
      "include_colab_link": true
    },
    "kernelspec": {
      "name": "python3",
      "display_name": "Python 3"
    }
  },
  "cells": [
    {
      "cell_type": "markdown",
      "metadata": {
        "id": "view-in-github",
        "colab_type": "text"
      },
      "source": [
        "<a href=\"https://colab.research.google.com/github/yash850/CRT-Program/blob/master/06_12_2019.ipynb\" target=\"_parent\"><img src=\"https://colab.research.google.com/assets/colab-badge.svg\" alt=\"Open In Colab\"/></a>"
      ]
    },
    {
      "cell_type": "code",
      "metadata": {
        "id": "ry3zdOcIpJzH",
        "colab_type": "code",
        "colab": {}
      },
      "source": [
        "# give two intial values as input\n",
        "# print the output as square of second number if first number is greater than second number\n",
        "# test cases \n",
        "5 10 -- 25\n",
        "#include<stdio.h>\n",
        "int main()\n",
        "{\n",
        "\tint x,y;\n",
        "\tscanf(\"%d%d\",&x,&y);\n",
        "\tif(x>y)\n",
        "\t{\n",
        "\t\tprintf(\"%d\",y*y);\n",
        "\t}\n",
        "\telse\n",
        "\t{\n",
        "   \t\tprintf(\"%d\",x*x);\n",
        "\t}\n",
        "\treturn 0;\n",
        "}\n"
      ],
      "execution_count": 0,
      "outputs": []
    },
    {
      "cell_type": "code",
      "metadata": {
        "id": "EnldB7-npJ5R",
        "colab_type": "code",
        "colab": {}
      },
      "source": [
        "# read the age of a person as input and print the output as elgible for voting or not\n",
        "#include<stdio.h>\n",
        "int main()\n",
        "{\n",
        "\tint age;\n",
        "\tscanf(\"%d\",&age);\n",
        "\tif(age >=18 && age <=85) {\n",
        "\t\tprintf(\"elgible for voting\");\n",
        "\t}\n",
        "\telse{\n",
        "\t\tprintf(\"not elgible for voting\");\n",
        "\t}\n",
        "\treturn 0;\n",
        "}\n"
      ],
      "execution_count": 0,
      "outputs": []
    },
    {
      "cell_type": "code",
      "metadata": {
        "id": "ytYkeyM9pJ7h",
        "colab_type": "code",
        "colab": {}
      },
      "source": [
        "# read the character as input and check whether it is upper case,lower case or digit\n",
        "# test cases :\n",
        "    a - lower case character\n",
        "    b - upper case character\n",
        "\n",
        "#include<stdio.h>\n",
        "int main()\n",
        "{\n",
        "\tchar a;\n",
        "\tscanf(\"%c\",&a);\n",
        "\tif(a >= 65 && a <= 90)\n",
        "   {\n",
        "\tprintf(\"upper case character\");\n",
        "   }\n",
        "else if(a >= 97 && a <= 122){\n",
        "\tprintf(\"lower case character\");\n",
        "    }\n",
        "    else if(a >= 48 && a <= 57)\n",
        "    {\n",
        "    \tprintf(\"digit character\");\n",
        "    }\n",
        "    return 0;\n",
        "}\n"
      ],
      "execution_count": 0,
      "outputs": []
    },
    {
      "cell_type": "code",
      "metadata": {
        "id": "0wAsTrANpJ9r",
        "colab_type": "code",
        "colab": {}
      },
      "source": [
        "# read the input as character and print output as whether it is vowel or consonant\n",
        "# test cases :\n",
        "   a - vowel\n",
        "   s - consonant\n",
        "   #include<stdio.h>\n",
        "int main()\n",
        "{\n",
        "\tchar a;\n",
        "\tscanf(\"%c\",&a);\n",
        "\tif(a == 'a' || a == 'e' || a == 'i' || a == 'o' || a == 'u')\n",
        "\t{\n",
        "\t\tprintf(\"vowel\");\n",
        "\t}\n",
        "\telse\n",
        "\t{\n",
        "\t\tprintf(\"consonant\");\n",
        "\t}\n",
        "\treturn 0;\n",
        "}"
      ],
      "execution_count": 0,
      "outputs": []
    },
    {
      "cell_type": "code",
      "metadata": {
        "id": "Ht0AhiJlpJ_3",
        "colab_type": "code",
        "colab": {}
      },
      "source": [
        "# read the number as input and check whether it is perfectly divisible by 3 and 5 or not\n",
        "# test cases :\n",
        "    15 -- yes\n",
        "    12 --no\n",
        "#include<stdio.h>\n",
        "int main()\n",
        "{\n",
        "\tint x;\n",
        "\tscanf(\"%d\",&x);\n",
        "\tif(x%3==0 && x%5==0)\n",
        "\t{\n",
        "\t\tprintf(\"yes\");\n",
        "\t}\n",
        "\telse\n",
        "\t{\n",
        "\t\tprintf(\"no\");\n",
        "\t}\n",
        "\treturn 0;\n",
        "}\n"
      ],
      "execution_count": 0,
      "outputs": []
    },
    {
      "cell_type": "code",
      "metadata": {
        "id": "-lMDe75upKCJ",
        "colab_type": "code",
        "colab": {}
      },
      "source": [
        "# read the number as input(week number) and print the output as week name\n",
        "# test cases :\n",
        "     1 -- sunday\n",
        "     3 -- tuesday\n",
        "     7 -- saturday\n",
        "#include<stdio.h>\n",
        "int main()\n",
        "{\n",
        "\tint x;\n",
        "\tscanf(\"%d\",&x);\n",
        "\tswitch(x)\n",
        "\t{\t\t\n",
        "        case1:printf(\"sunday\");\n",
        "    \tbreak;\n",
        "        case2:printf(\"monday\");\n",
        "    \tbreak;\n",
        "    \tcase3:printf(\"tuesday\");\n",
        "        break;\n",
        "    \tcase4:printf(\"wednesday\");\n",
        "        break;\n",
        "        case5:printf(\"thursday\");\n",
        "     \tbreak;\n",
        "        case6:printf(\"friday\");\n",
        "    \tbreak;\n",
        "        case7:printf(\"saturday\");\n",
        "    }\n",
        "   \treturn 0;\n",
        "    \n",
        "}     \n",
        "     \n",
        "          \n"
      ],
      "execution_count": 0,
      "outputs": []
    },
    {
      "cell_type": "code",
      "metadata": {
        "id": "kM9RbGUQpKEV",
        "colab_type": "code",
        "colab": {}
      },
      "source": [
        "# read the three angles as input and checjk whether it constructs triangle or not\n",
        "\n",
        "#include<stdio.h>\n",
        "int main()\n",
        "{\n",
        "\tint a,b,c;\n",
        "\tscanf(\"%d%d%d\",&a,&b,&c);\n",
        "\tif(a!=0 && b!=0 && c!=0 && (a+b+c==180))\n",
        "\t{\n",
        "\t\tprintf(\"yes\");\n",
        "\t}\n",
        "\telse\n",
        "\t{\n",
        "\t\tprintf(\"not\");\n",
        "\t}\n",
        "\treturn 0;\n",
        "}"
      ],
      "execution_count": 0,
      "outputs": []
    },
    {
      "cell_type": "code",
      "metadata": {
        "id": "UfZoP1H2-hHf",
        "colab_type": "code",
        "colab": {}
      },
      "source": [
        "# read the number as input and print the natural numbers from 1 to n\n",
        "# test cases :\n",
        "    10 -- 1 2 3 4 5 6 7 8 9 10\n",
        "#include<stdio.h>\n",
        "int main()\n",
        "{\n",
        "\tint x,i=1;\n",
        "\tscanf(\"%d\",&x);\n",
        "\twhile(i<=x)\n",
        "\t{\n",
        "\t\tprintf(\"%d\",i);\n",
        "\t\ti++;//i = i+1\n",
        "\t}\n",
        "\treturn 0;\n",
        "}    "
      ],
      "execution_count": 0,
      "outputs": []
    },
    {
      "cell_type": "code",
      "metadata": {
        "id": "abbyuB2vAm4Q",
        "colab_type": "code",
        "colab": {}
      },
      "source": [
        "# read the numbers as input and print the sum of even numbers between 1 to n\n",
        "# test cases :\n",
        "    10 -- 2+4+6+8+10 -- 30\n",
        "#include<stdio.h>\n",
        "int main()\n",
        "{\n",
        "\tint x,i=1,s=0;\n",
        "\tscanf(\"%d\",&x);\n",
        "\twhile(i<=x)\n",
        "\t{\n",
        "\t\tif(i%2 == 0)\n",
        "\t\t{\n",
        "\t\t    s = s+i;\n",
        "\t\t}\n",
        "\t\ti++;\n",
        "\t\t\n",
        "\t}\n",
        "\tprintf(\"%d\",s);\n",
        "\treturn 0;\n",
        "}    "
      ],
      "execution_count": 0,
      "outputs": []
    }
  ]
}