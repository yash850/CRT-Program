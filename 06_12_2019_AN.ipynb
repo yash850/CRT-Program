{
  "nbformat": 4,
  "nbformat_minor": 0,
  "metadata": {
    "colab": {
      "name": "06-12-2019 AN",
      "provenance": [],
      "include_colab_link": true
    },
    "kernelspec": {
      "name": "python3",
      "display_name": "Python 3"
    }
  },
  "cells": [
    {
      "cell_type": "markdown",
      "metadata": {
        "id": "view-in-github",
        "colab_type": "text"
      },
      "source": [
        "<a href=\"https://colab.research.google.com/github/yash850/CRT-Program/blob/master/06_12_2019_AN.ipynb\" target=\"_parent\"><img src=\"https://colab.research.google.com/assets/colab-badge.svg\" alt=\"Open In Colab\"/></a>"
      ]
    },
    {
      "cell_type": "code",
      "metadata": {
        "id": "P3fiz5DKS_Yj",
        "colab_type": "code",
        "colab": {}
      },
      "source": [
        "# read the two numbers as input and print the output as the numbers which is perfectly divisible by 3 and 5\n",
        "# test cases :\n",
        "    1 15 -- 15\n",
        "    15 45 -- 15 30 45 \n",
        "#include<stdio.h>\n",
        "int main()\n",
        "{\n",
        "\tint x1,x2;\n",
        "\tscanf(\"%d%d\",&x1,&x2);\n",
        "\twhile(x1<=x2)\n",
        "\t{\n",
        "\t\tif(x1%3==0 && x1%5==0)\n",
        "\t\t{\n",
        "\t\t\tprintf(\"%d\",x1);\n",
        "\t\t}\n",
        "\t\tx1++;\n",
        "\t}\n",
        "\treturn 0;\n",
        "}    "
      ],
      "execution_count": 0,
      "outputs": []
    },
    {
      "cell_type": "code",
      "metadata": {
        "id": "NAGRPSnMWMO_",
        "colab_type": "code",
        "colab": {}
      },
      "source": [
        "# read the number as input and print the output as digits of the number\n",
        "# test cases :\n",
        "    145 -- 5 4 1\n",
        "    1889 -- 9 8 8 1\n",
        "#include<stdio.h>\n",
        "int main()\n",
        "{\n",
        "\tint x,r;\n",
        "\tscanf(\"%d\",&x);\n",
        "\twhile(x!=0)\n",
        "\t{\n",
        "\t\tr=x%10;\n",
        "\t\tprintf(\"%d\",r);\n",
        "\t\tx=x/10;\n",
        "\t}\n",
        "\treturn 0;\n",
        "}   "
      ],
      "execution_count": 0,
      "outputs": []
    },
    {
      "cell_type": "code",
      "metadata": {
        "id": "eFO_cskTZlwg",
        "colab_type": "code",
        "colab": {}
      },
      "source": [
        "# read the number as input and print the output as only the sum of even digits in the given number\n",
        "# test cases\n",
        "     1889 -- 16\n",
        "     145 -- 4\n",
        "     1591 -- 0\n",
        "#include<stdio.h>\n",
        "int main()\n",
        "{\n",
        "\tint x,r,s=0;\n",
        "\tscanf(\"%d\",&x);\n",
        "\twhile(x!=0)\n",
        "\t{\n",
        "\t\tr=x%10;\n",
        "\t\tif(r%2==0)\n",
        "\t\t{\n",
        "\t\t\ts=s+r;\n",
        "\t\t}\n",
        "\t\tx=x/10;\n",
        "\t}\n",
        "\tprintf(\"%d\",s);\n",
        "\treturn 0;\n",
        "}     "
      ],
      "execution_count": 0,
      "outputs": []
    },
    {
      "cell_type": "code",
      "metadata": {
        "id": "YvMHC-CzcRZk",
        "colab_type": "code",
        "colab": {}
      },
      "source": [
        "# read the input as number and print the output in following order\n",
        "# test cases :\n",
        "    1889 -- nine eight eight one\n",
        "    1520 -- zero two five one\n",
        "    9852 -- two five eight nine\n",
        "#include<stdio.h>\n",
        "int main()\n",
        "{\n",
        "\tint x,r,s=0;\n",
        "\tscanf(\"%d\",&x);\n",
        "\twhile(x!=0)\n",
        "\t{\n",
        "\t\tr=x%10;\n",
        "\t\tswitch(r)\n",
        "\t\t{\n",
        "\t\t\tcase 0:printf(\"zero\");\n",
        "\t\t\tbreak;\n",
        "\t\t\tcase 1:printf(\"one\");\n",
        "\t\t\tbreak;\n",
        "\t\t\tcase 2:printf(\"two\");\n",
        "\t\t\tbreak;\n",
        "\t\t\tcase 3:printf(\"three\");\n",
        "\t\t\tbreak;\n",
        "\t\t}\n",
        "\t\tprintf(\"%d\",x);\n",
        "\t\tx=x/10;\n",
        "\t}\n",
        "\treturn 0;\n",
        "}    "
      ],
      "execution_count": 0,
      "outputs": []
    },
    {
      "cell_type": "code",
      "metadata": {
        "id": "2zw4LNgRhqJh",
        "colab_type": "code",
        "colab": {}
      },
      "source": [
        "# read the input as number and print the output in the following manner\n",
        "# test cases:\n",
        "     98254 -- <2,9>\n",
        "     57415 -- <1,7>\n",
        "#include<stdio.h>\n",
        "int main()\n",
        "{\n",
        "\tint x,r,large=0,small=9;\n",
        "\tscanf(\"%d\",&x);\n",
        "\twhile(x!=0)\n",
        "\t{\n",
        "\t\tr=x%10;\n",
        "\t\tif(large<r)\n",
        "\t\t{\n",
        "\t\t\tlarge = r;\n",
        "\t\t}\n",
        "\t\tif(small>r)\n",
        "\t\t{\n",
        "\t\t\tsmall = r;\n",
        "\t\t}\n",
        "\t\tx/=10;\n",
        "\t}\n",
        "\tprintf(\"<%d,%d>\",small,large);\n",
        "\treturn 0;\n",
        "}     "
      ],
      "execution_count": 0,
      "outputs": []
    },
    {
      "cell_type": "code",
      "metadata": {
        "id": "T7DU_xu4llaa",
        "colab_type": "code",
        "colab": {}
      },
      "source": [
        "# read the input as a number and print the output in the folowing manner\n",
        "# test cases :\n",
        "     1889 -- 5\n",
        "     666 -- 3\n",
        "     4756 -- 3\n",
        "     1591 -- 1\n",
        "# reason for the output is each circle will cost of 1 unit and triangle cost of 2 units\n",
        "#include<stdio.h>\n",
        "int main()\n",
        "{\n",
        "\tint x,r,s=0;\n",
        "\tscanf(\"%d\",&x);\n",
        "\twhile(x!=0)\n",
        "\t{\n",
        "\t\tr=x%10;\n",
        "\t\tif(r == 8)\n",
        "\t\t{\n",
        "\t\t\ts += 2;\n",
        "\t\t}\n",
        "\t\telse if(r == 0||r == 6||r == 9)\n",
        "\t\t{\n",
        "\t\t\ts += 1;\n",
        "\t\t}\n",
        "\t\telse if(r == 4)\n",
        "\t\t{\n",
        "\t\t\ts += 2;\n",
        "\t\t}\n",
        "\t\tx/=10;\n",
        "\t}\n",
        "\tprintf(\"%d\",s);\n",
        "\treturn 0;\n",
        "}     \n"
      ],
      "execution_count": 0,
      "outputs": []
    },
    {
      "cell_type": "code",
      "metadata": {
        "id": "N76GX-IfrNaA",
        "colab_type": "code",
        "colab": {}
      },
      "source": [
        "# read the number as input and print whether the number is \"palindrome\" or \"not a palindrome\"\n",
        "# test cases :\n",
        "     141 -- palindrome\n",
        "     145 -- not a palindrome\n",
        "     1991 -- palindrome\n",
        "     "
      ],
      "execution_count": 0,
      "outputs": []
    }
  ]
}